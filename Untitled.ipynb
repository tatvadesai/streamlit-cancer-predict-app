{
 "cells": [
  {
   "cell_type": "code",
   "execution_count": 13,
   "id": "f61f9e30",
   "metadata": {},
   "outputs": [
    {
     "name": "stdout",
     "output_type": "stream",
     "text": [
      "Accuracy of our model:  0.9736842105263158\n",
      "classification report:               precision    recall  f1-score   support\n",
      "\n",
      "           0       0.97      0.99      0.98        71\n",
      "           1       0.98      0.95      0.96        43\n",
      "\n",
      "    accuracy                           0.97       114\n",
      "   macro avg       0.97      0.97      0.97       114\n",
      "weighted avg       0.97      0.97      0.97       114\n",
      "\n"
     ]
    }
   ],
   "source": [
    "\n",
    "\n",
    "\n",
    "import pandas as pd\n",
    "from sklearn.preprocessing import StandardScaler\n",
    "from sklearn.model_selection import train_test_split\n",
    "from sklearn.linear_model import LogisticRegression\n",
    "from sklearn.metrics import accuracy_score, classification_report\n",
    "import pickle\n",
    "\n",
    "\n",
    "\n",
    "def create_model(data):\n",
    "    X = data.drop(['diagnosis'],axis=1)\n",
    "    y = data['diagnosis']\n",
    "    \n",
    "    scaler =StandardScaler()\n",
    "    X = scaler.fit_transform(X)\n",
    "    \n",
    "    #splitting the data\n",
    "    X_train, X_test, y_train, y_test = train_test_split(X, y, test_size=0.2, random_state=42)\n",
    "    \n",
    "    #train\n",
    "    model = LogisticRegression()\n",
    "    model.fit(X_train, y_train)\n",
    "    \n",
    "    #test model\n",
    "    \n",
    "    y_pred = model.predict(X_test)\n",
    "    print(\"Accuracy of our model: \", accuracy_score(y_test, y_pred))\n",
    "    print(\"classification report:\", classification_report(y_test, y_pred))\n",
    "    \n",
    "    \n",
    "    return model, scaler\n",
    "    \n",
    "\n",
    "def get_clean_data():\n",
    "    data = pd.read_csv(\"data/data.csv\")\n",
    "    \n",
    "    data = data.drop(['Unnamed: 32', 'id'], axis=1)\n",
    "    \n",
    "    data['diagnosis'] = data['diagnosis'].map({'M': 1, 'B': 0})\n",
    "    \n",
    "    return data\n",
    "\n",
    "def main():\n",
    "    data = get_clean_data()\n",
    "    \n",
    "    model, scaler = create_model(data)\n",
    "    \n",
    "    with open('model/model.pkl', 'wb') as f:\n",
    "        pickle.dump(model, f)\n",
    "    with open('model/scaler.pkl', 'wb') as f:\n",
    "        pickle.dump(scaler, f )\n",
    "    \n",
    "if __name__ == '__main__':\n",
    "    main()\n",
    "\n",
    "\n"
   ]
  },
  {
   "cell_type": "code",
   "execution_count": null,
   "id": "2dc8cfd3",
   "metadata": {},
   "outputs": [],
   "source": []
  },
  {
   "cell_type": "code",
   "execution_count": 2,
   "id": "eea124c3",
   "metadata": {},
   "outputs": [
    {
     "name": "stdout",
     "output_type": "stream",
     "text": [
      "Tatva\n"
     ]
    }
   ],
   "source": [
    "print(\"Tatva\")"
   ]
  },
  {
   "cell_type": "code",
   "execution_count": null,
   "id": "31bcd677",
   "metadata": {},
   "outputs": [],
   "source": []
  }
 ],
 "metadata": {
  "kernelspec": {
   "display_name": "Python 3 (ipykernel)",
   "language": "python",
   "name": "python3"
  },
  "language_info": {
   "codemirror_mode": {
    "name": "ipython",
    "version": 3
   },
   "file_extension": ".py",
   "mimetype": "text/x-python",
   "name": "python",
   "nbconvert_exporter": "python",
   "pygments_lexer": "ipython3",
   "version": "3.10.7"
  }
 },
 "nbformat": 4,
 "nbformat_minor": 5
}
